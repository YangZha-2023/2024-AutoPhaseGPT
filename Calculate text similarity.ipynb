{
 "cells": [
  {
   "cell_type": "code",
   "execution_count": 1,
   "id": "b8774012-26ea-46be-b148-aa51da6adccc",
   "metadata": {
    "tags": []
   },
   "outputs": [
    {
     "name": "stderr",
     "output_type": "stream",
     "text": [
      "C:\\Users\\ZY\\.conda\\envs\\openai\\lib\\site-packages\\tqdm\\auto.py:21: TqdmWarning: IProgress not found. Please update jupyter and ipywidgets. See https://ipywidgets.readthedocs.io/en/stable/user_install.html\n",
      "  from .autonotebook import tqdm as notebook_tqdm\n"
     ]
    }
   ],
   "source": [
    "from sentence_transformers import SentenceTransformer, util\n",
    "import torch\n",
    "from scipy.spatial.distance import cosine\n",
    "from transformers import AutoModel, AutoTokenizer, BertTokenizer\n",
    "from sklearn.metrics.pairwise import cosine_similarity\n",
    "from scipy.spatial.distance import euclidean, cityblock\n",
    "from scipy.stats import pearsonr\n",
    "import numpy as np"
   ]
  },
  {
   "cell_type": "code",
   "execution_count": 2,
   "id": "f37ff534-2118-47e0-aae7-ecf7c0184644",
   "metadata": {},
   "outputs": [],
   "source": [
    "# L1 Normalization\n",
    "def normalize_l1(vector):\n",
    "    norm = np.sum(np.abs(vector))\n",
    "    return vector / norm\n",
    "\n",
    "# L2 Normalization\n",
    "def normalize_l2(vector):\n",
    "    norm = np.sqrt(np.sum(np.square(vector)))\n",
    "    return vector / norm"
   ]
  },
  {
   "cell_type": "code",
   "execution_count": 3,
   "id": "260e15f1-e6ed-4c05-a035-f2caf8cd9161",
   "metadata": {},
   "outputs": [
    {
     "name": "stdout",
     "output_type": "stream",
     "text": [
      "Total number of tokens for text1: 293\n",
      "Total number of tokens for text2: 342\n",
      "torch.Size([1, 384]) torch.Size([1, 384])\n",
      "CS based on numpy: 0.9052212834358215\n",
      "CS based on sklearn: [[0.9052214]]\n",
      "ED: 0.4353819787502289\n",
      "MD: 0.445708\n"
     ]
    }
   ],
   "source": [
    "# Loading Models and Tokenizer\n",
    "model_path = './all-MiniLM-L6-v2'  \n",
    "file_path_gd = './data-noprompt/Cr-Ti-gd.txt'\n",
    "# file_path_answer = './data-noprompt/Al-Co-gd.txt'\n",
    "# file_path_improved = './data-traditionmethods/Al-Co.txt'\n",
    "file_path_tradition = './data-traditionmethods/Cr-Ti.txt'\n",
    "\n",
    "model = AutoModel.from_pretrained(model_path)\n",
    "tokenizer = AutoTokenizer.from_pretrained(model_path)\n",
    "\n",
    "# Read text from TXT files\n",
    "with open(file_path_gd, 'r', encoding='utf-8') as file:\n",
    "    text1 = file.read()\n",
    "\n",
    "# with open(file_path_answer, 'r', encoding='utf-8') as file:\n",
    "#     text2 = file.read()\n",
    "\n",
    "# with open(file_path_improved, 'r', encoding='utf-8') as file:\n",
    "#     text2 = file.read()\n",
    "\n",
    "with open(file_path_tradition, 'r', encoding='utf-8') as file:\n",
    "    text2 = file.read()\n",
    "\n",
    "# Processing Sentences with tokenizers\n",
    "inputs1 = tokenizer(\n",
    "                    text1\n",
    "                    # sentence1\n",
    "                    , return_tensors=\"pt\"\n",
    "                    , padding=False, truncation=True\n",
    "                    , max_length=512\n",
    ")\n",
    "inputs2 = tokenizer(\n",
    "                    text2\n",
    "                    # sentence2\n",
    "                    , return_tensors=\"pt\"\n",
    "                    , padding=False, truncation=True\n",
    "                    , max_length=512\n",
    ")\n",
    "\n",
    "# print total tokens\n",
    "print(\"Total number of tokens for text1:\", inputs1['input_ids'].size(1))\n",
    "print(\"Total number of tokens for text2:\", inputs2['input_ids'].size(1))\n",
    "\n",
    "# Get the last layer of hidden state of the model output\n",
    "with torch.no_grad():\n",
    "    outputs1 = model(**inputs1)\n",
    "    outputs2 = model(**inputs2)\n",
    "\n",
    "# Using average pooling\n",
    "embeddings1 = outputs1.last_hidden_state.mean(dim=1)\n",
    "embeddings2 = outputs2.last_hidden_state.mean(dim=1)\n",
    "print(embeddings1.shape, embeddings2.shape)\n",
    "\n",
    "# Calculate the cosine similarity between two word vectors \n",
    "vec1 = embeddings1.squeeze().numpy()\n",
    "vec2 = embeddings2.squeeze().numpy()\n",
    "cosine_sim = 1 - cosine(vec1, vec2)\n",
    "print(\"CS based on numpy:\", cosine_sim)\n",
    "\n",
    "cosine_sim = cosine_similarity(embeddings1,embeddings2)\n",
    "print(\"CS based on sklearn:\", cosine_sim)\n",
    "\n",
    "# Calculate the Euclidean Distance\n",
    "norml2_vec1 = normalize_l2(vec1)\n",
    "norml2_vec2 = normalize_l2(vec2)\n",
    "euclidean_dist = euclidean(norml2_vec1, norml2_vec2)\n",
    "print(\"ED:\", euclidean_dist)\n",
    "\n",
    "# Calculate the Manhattan Distance\n",
    "norml1_vec1 = normalize_l1(vec1)\n",
    "norml1_vec2 = normalize_l1(vec2)\n",
    "manhattan_dist = cityblock(norml1_vec1, norml1_vec2)\n",
    "print(\"MD:\", manhattan_dist)"
   ]
  },
  {
   "cell_type": "code",
   "execution_count": null,
   "id": "43eedee4-a1f2-4a84-bc48-c0a0879fc963",
   "metadata": {},
   "outputs": [],
   "source": []
  }
 ],
 "metadata": {
  "kernelspec": {
   "display_name": "Python 3 (ipykernel)",
   "language": "python",
   "name": "python3"
  },
  "language_info": {
   "codemirror_mode": {
    "name": "ipython",
    "version": 3
   },
   "file_extension": ".py",
   "mimetype": "text/x-python",
   "name": "python",
   "nbconvert_exporter": "python",
   "pygments_lexer": "ipython3",
   "version": "3.8.19"
  }
 },
 "nbformat": 4,
 "nbformat_minor": 5
}
